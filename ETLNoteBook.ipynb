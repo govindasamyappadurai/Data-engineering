{
 "cells": [
  {
   "cell_type": "code",
   "execution_count": 1,
   "id": "988ad5dd",
   "metadata": {
    "execution": {
     "iopub.execute_input": "2021-11-23T17:57:18.988811Z",
     "iopub.status.busy": "2021-11-23T17:57:18.988519Z",
     "iopub.status.idle": "2021-11-23T17:57:55.202838Z",
     "shell.execute_reply": "2021-11-23T17:57:55.201529Z",
     "shell.execute_reply.started": "2021-11-23T17:57:18.988770Z"
    }
   },
   "outputs": [
    {
     "data": {
      "application/vnd.jupyter.widget-view+json": {
       "model_id": "f9a781ce851643a5993026b26d2cd41b",
       "version_major": 2,
       "version_minor": 0
      },
      "text/plain": [
       "VBox()"
      ]
     },
     "metadata": {},
     "output_type": "display_data"
    },
    {
     "name": "stdout",
     "output_type": "stream",
     "text": [
      "Starting Spark application\n"
     ]
    },
    {
     "data": {
      "text/html": [
       "<table>\n",
       "<tr><th>ID</th><th>YARN Application ID</th><th>Kind</th><th>State</th><th>Spark UI</th><th>Driver log</th><th>Current session?</th></tr><tr><td>0</td><td>application_1638298316469_0002</td><td>pyspark</td><td>idle</td><td><a target=\"_blank\" href=\"http://ip-10-0-0-141.ec2.internal:20888/proxy/application_1638298316469_0002/\" class=\"emr-proxy-link\" emr-resource=\"j-EYRKL01M4S7N\n",
       "\" application-id=\"application_1638298316469_0002\">Link</a></td><td><a target=\"_blank\" href=\"http://ip-10-0-0-141.ec2.internal:8042/node/containerlogs/container_1638298316469_0002_01_000001/livy\" >Link</a></td><td>✔</td></tr></table>"
      ],
      "text/plain": [
       "<IPython.core.display.HTML object>"
      ]
     },
     "metadata": {},
     "output_type": "display_data"
    },
    {
     "data": {
      "application/vnd.jupyter.widget-view+json": {
       "model_id": "",
       "version_major": 2,
       "version_minor": 0
      },
      "text/plain": [
       "FloatProgress(value=0.0, bar_style='info', description='Progress:', layout=Layout(height='25px', width='50%'),…"
      ]
     },
     "metadata": {},
     "output_type": "display_data"
    },
    {
     "name": "stdout",
     "output_type": "stream",
     "text": [
      "SparkSession available as 'spark'.\n"
     ]
    },
    {
     "data": {
      "application/vnd.jupyter.widget-view+json": {
       "model_id": "",
       "version_major": 2,
       "version_minor": 0
      },
      "text/plain": [
       "FloatProgress(value=0.0, bar_style='info', description='Progress:', layout=Layout(height='25px', width='50%'),…"
      ]
     },
     "metadata": {},
     "output_type": "display_data"
    },
    {
     "name": "stdout",
     "output_type": "stream",
     "text": [
      "<pyspark.sql.session.SparkSession object at 0x7f12d3a20cd0>"
     ]
    }
   ],
   "source": [
    "### starting spark session ###\n",
    "spark"
   ]
  },
  {
   "cell_type": "markdown",
   "id": "058dc07a",
   "metadata": {},
   "source": [
    "## 1. Extracting data from HDFS"
   ]
  },
  {
   "cell_type": "code",
   "execution_count": 2,
   "id": "5bb59bff",
   "metadata": {
    "execution": {
     "iopub.execute_input": "2021-11-23T17:57:55.205166Z",
     "iopub.status.busy": "2021-11-23T17:57:55.204628Z",
     "iopub.status.idle": "2021-11-23T17:57:55.347599Z",
     "shell.execute_reply": "2021-11-23T17:57:55.346392Z",
     "shell.execute_reply.started": "2021-11-23T17:57:55.205114Z"
    }
   },
   "outputs": [
    {
     "data": {
      "application/vnd.jupyter.widget-view+json": {
       "model_id": "9c734048ab5b4030bd151ffd9e01d765",
       "version_major": 2,
       "version_minor": 0
      },
      "text/plain": [
       "VBox()"
      ]
     },
     "metadata": {},
     "output_type": "display_data"
    },
    {
     "data": {
      "application/vnd.jupyter.widget-view+json": {
       "model_id": "",
       "version_major": 2,
       "version_minor": 0
      },
      "text/plain": [
       "FloatProgress(value=0.0, bar_style='info', description='Progress:', layout=Layout(height='25px', width='50%'),…"
      ]
     },
     "metadata": {},
     "output_type": "display_data"
    }
   ],
   "source": [
    "### Importing required types ###\n",
    "from pyspark.sql.types import StructType, StructField, IntegerType, StringType, BooleanType, DoubleType, LongType, DecimalType"
   ]
  },
  {
   "cell_type": "code",
   "execution_count": 3,
   "id": "f4527979",
   "metadata": {
    "execution": {
     "iopub.execute_input": "2021-11-23T17:57:58.009193Z",
     "iopub.status.busy": "2021-11-23T17:57:58.008905Z",
     "iopub.status.idle": "2021-11-23T17:57:58.137157Z",
     "shell.execute_reply": "2021-11-23T17:57:58.135732Z",
     "shell.execute_reply.started": "2021-11-23T17:57:58.009160Z"
    }
   },
   "outputs": [
    {
     "data": {
      "application/vnd.jupyter.widget-view+json": {
       "model_id": "475848883f204f02b9576dee6f21a2e0",
       "version_major": 2,
       "version_minor": 0
      },
      "text/plain": [
       "VBox()"
      ]
     },
     "metadata": {},
     "output_type": "display_data"
    },
    {
     "data": {
      "application/vnd.jupyter.widget-view+json": {
       "model_id": "",
       "version_major": 2,
       "version_minor": 0
      },
      "text/plain": [
       "FloatProgress(value=0.0, bar_style='info', description='Progress:', layout=Layout(height='25px', width='50%'),…"
      ]
     },
     "metadata": {},
     "output_type": "display_data"
    }
   ],
   "source": [
    "### Constructing the schema names ###\n",
    "fileSchema = StructType([\n",
    "    StructField('year', IntegerType(), True),\n",
    "    StructField('month', StringType(), True),\n",
    "    StructField('day', IntegerType(), True),\n",
    "    StructField('weekday', StringType(), True),\n",
    "    StructField('hour', IntegerType(), True),\n",
    "    StructField('atm_status', StringType(), True),\n",
    "    StructField('atm_id', StringType(), True),\n",
    "    StructField('atm_manufacturer', StringType(), True),\n",
    "    StructField('atm_location', StringType(), True),\n",
    "    StructField('atm_street_name', StringType(), True),\n",
    "    StructField('atm_street_number', IntegerType(), True),\n",
    "    StructField('atm_zipcode', IntegerType(), True),\n",
    "    StructField('atm_lat', DecimalType(), True),\n",
    "    StructField('atm_lon', DecimalType(), True),\n",
    "    StructField('currency', StringType(), True),\n",
    "    StructField('card_type', StringType(), True),\n",
    "    StructField('transaction_amount', IntegerType(), True),\n",
    "    StructField('service', StringType(), True),\n",
    "    StructField('message_code', StringType(), True),\n",
    "    StructField('message_text', StringType(), True),\n",
    "    StructField('weather_lat', DecimalType(), True),\n",
    "    StructField('weather_lon', DecimalType(), True),\n",
    "    StructField('weather_city_id', IntegerType(), True),\n",
    "    StructField('weather_city_name', StringType(), True),\n",
    "    StructField('temp', DecimalType(), True),\n",
    "    StructField('pressure', IntegerType(), True),\n",
    "    StructField('humidity', IntegerType(), True),\n",
    "    StructField('wind_speed', IntegerType(), True),\n",
    "    StructField('wind_deg', IntegerType(), True),\n",
    "    StructField('rain_3h', DecimalType(), True),\n",
    "    StructField('clouds_all', IntegerType(), True),\n",
    "    StructField('weather_id', IntegerType(), True),\n",
    "    StructField('weather_main', StringType(), True),\n",
    "    StructField('weather_description', StringType(), True)\n",
    "])"
   ]
  },
  {
   "cell_type": "code",
   "execution_count": 4,
   "id": "877fc67d",
   "metadata": {
    "execution": {
     "iopub.execute_input": "2021-11-23T18:03:03.440495Z",
     "iopub.status.busy": "2021-11-23T18:03:03.440227Z",
     "iopub.status.idle": "2021-11-23T18:03:04.274397Z",
     "shell.execute_reply": "2021-11-23T18:03:04.273440Z",
     "shell.execute_reply.started": "2021-11-23T18:03:03.440463Z"
    },
    "tags": []
   },
   "outputs": [
    {
     "data": {
      "application/vnd.jupyter.widget-view+json": {
       "model_id": "f98b56599038471b880fd9a2f5b06fdd",
       "version_major": 2,
       "version_minor": 0
      },
      "text/plain": [
       "VBox()"
      ]
     },
     "metadata": {},
     "output_type": "display_data"
    },
    {
     "data": {
      "application/vnd.jupyter.widget-view+json": {
       "model_id": "",
       "version_major": 2,
       "version_minor": 0
      },
      "text/plain": [
       "FloatProgress(value=0.0, bar_style='info', description='Progress:', layout=Layout(height='25px', width='50%'),…"
      ]
     },
     "metadata": {},
     "output_type": "display_data"
    }
   ],
   "source": [
    "### Reading data from csv files ###\n",
    "sourceFile = spark.read.csv(\"part-m-00000\",\n",
    "                            multiLine=True,\n",
    "                            escape=\"\\'\",\n",
    "                            schema=fileSchema)"
   ]
  },
  {
   "cell_type": "code",
   "execution_count": 5,
   "id": "02c95569",
   "metadata": {
    "execution": {
     "iopub.execute_input": "2021-11-23T18:03:11.338517Z",
     "iopub.status.busy": "2021-11-23T18:03:11.338240Z",
     "iopub.status.idle": "2021-11-23T18:03:28.802426Z",
     "shell.execute_reply": "2021-11-23T18:03:28.801256Z",
     "shell.execute_reply.started": "2021-11-23T18:03:11.338483Z"
    },
    "tags": []
   },
   "outputs": [
    {
     "data": {
      "application/vnd.jupyter.widget-view+json": {
       "model_id": "624403c6d0954024a10179972e921ecc",
       "version_major": 2,
       "version_minor": 0
      },
      "text/plain": [
       "VBox()"
      ]
     },
     "metadata": {},
     "output_type": "display_data"
    },
    {
     "data": {
      "application/vnd.jupyter.widget-view+json": {
       "model_id": "",
       "version_major": 2,
       "version_minor": 0
      },
      "text/plain": [
       "FloatProgress(value=0.0, bar_style='info', description='Progress:', layout=Layout(height='25px', width='50%'),…"
      ]
     },
     "metadata": {},
     "output_type": "display_data"
    },
    {
     "name": "stdout",
     "output_type": "stream",
     "text": [
      "2468572"
     ]
    }
   ],
   "source": [
    "### Verifying the count ###\n",
    "sourceFile.count()"
   ]
  },
  {
   "cell_type": "code",
   "execution_count": 6,
   "id": "420a23a7",
   "metadata": {
    "execution": {
     "iopub.execute_input": "2021-11-23T18:03:31.094942Z",
     "iopub.status.busy": "2021-11-23T18:03:31.094660Z",
     "iopub.status.idle": "2021-11-23T18:03:31.204806Z",
     "shell.execute_reply": "2021-11-23T18:03:31.203840Z",
     "shell.execute_reply.started": "2021-11-23T18:03:31.094909Z"
    },
    "tags": []
   },
   "outputs": [
    {
     "data": {
      "application/vnd.jupyter.widget-view+json": {
       "model_id": "3f41bddb9eb84da8b813630abc573071",
       "version_major": 2,
       "version_minor": 0
      },
      "text/plain": [
       "VBox()"
      ]
     },
     "metadata": {},
     "output_type": "display_data"
    },
    {
     "data": {
      "application/vnd.jupyter.widget-view+json": {
       "model_id": "",
       "version_major": 2,
       "version_minor": 0
      },
      "text/plain": [
       "FloatProgress(value=0.0, bar_style='info', description='Progress:', layout=Layout(height='25px', width='50%'),…"
      ]
     },
     "metadata": {},
     "output_type": "display_data"
    },
    {
     "name": "stdout",
     "output_type": "stream",
     "text": [
      "['year', 'month', 'day', 'weekday', 'hour', 'atm_status', 'atm_id', 'atm_manufacturer', 'atm_location', 'atm_street_name', 'atm_street_number', 'atm_zipcode', 'atm_lat', 'atm_lon', 'currency', 'card_type', 'transaction_amount', 'service', 'message_code', 'message_text', 'weather_lat', 'weather_lon', 'weather_city_id', 'weather_city_name', 'temp', 'pressure', 'humidity', 'wind_speed', 'wind_deg', 'rain_3h', 'clouds_all', 'weather_id', 'weather_main', 'weather_description']"
     ]
    }
   ],
   "source": [
    "### displaying the colums ###\n",
    "sourceFile.columns"
   ]
  },
  {
   "cell_type": "code",
   "execution_count": 7,
   "id": "8ad104fb",
   "metadata": {
    "execution": {
     "iopub.execute_input": "2021-11-23T18:03:44.717899Z",
     "iopub.status.busy": "2021-11-23T18:03:44.717611Z",
     "iopub.status.idle": "2021-11-23T18:03:45.026930Z",
     "shell.execute_reply": "2021-11-23T18:03:45.025809Z",
     "shell.execute_reply.started": "2021-11-23T18:03:44.717866Z"
    },
    "tags": []
   },
   "outputs": [
    {
     "data": {
      "application/vnd.jupyter.widget-view+json": {
       "model_id": "944e96dfdd3b4960837ea70717a0b917",
       "version_major": 2,
       "version_minor": 0
      },
      "text/plain": [
       "VBox()"
      ]
     },
     "metadata": {},
     "output_type": "display_data"
    },
    {
     "data": {
      "application/vnd.jupyter.widget-view+json": {
       "model_id": "",
       "version_major": 2,
       "version_minor": 0
      },
      "text/plain": [
       "FloatProgress(value=0.0, bar_style='info', description='Progress:', layout=Layout(height='25px', width='50%'),…"
      ]
     },
     "metadata": {},
     "output_type": "display_data"
    }
   ],
   "source": [
    "### Creating temp table for using in spark Sql###\n",
    "sourceFile.createOrReplaceTempView(\"sourceFile_SQl\")"
   ]
  },
  {
   "cell_type": "markdown",
   "id": "09467a95",
   "metadata": {},
   "source": [
    "## 2. Dimension tables creation "
   ]
  },
  {
   "cell_type": "markdown",
   "id": "2c096b3a",
   "metadata": {},
   "source": [
    "#### DIM_LOCATION ####\n"
   ]
  },
  {
   "cell_type": "code",
   "execution_count": 8,
   "id": "9a14e05d",
   "metadata": {
    "execution": {
     "iopub.execute_input": "2021-11-23T18:11:24.011142Z",
     "iopub.status.busy": "2021-11-23T18:11:24.010857Z",
     "iopub.status.idle": "2021-11-23T18:11:24.325121Z",
     "shell.execute_reply": "2021-11-23T18:11:24.323965Z",
     "shell.execute_reply.started": "2021-11-23T18:11:24.011109Z"
    },
    "scrolled": true,
    "tags": []
   },
   "outputs": [
    {
     "data": {
      "application/vnd.jupyter.widget-view+json": {
       "model_id": "7366549b865d4b74b8c03d49b87cb586",
       "version_major": 2,
       "version_minor": 0
      },
      "text/plain": [
       "VBox()"
      ]
     },
     "metadata": {},
     "output_type": "display_data"
    },
    {
     "data": {
      "application/vnd.jupyter.widget-view+json": {
       "model_id": "",
       "version_major": 2,
       "version_minor": 0
      },
      "text/plain": [
       "FloatProgress(value=0.0, bar_style='info', description='Progress:', layout=Layout(height='25px', width='50%'),…"
      ]
     },
     "metadata": {},
     "output_type": "display_data"
    }
   ],
   "source": [
    "### Identifying the distinct location data using spark sql###\n",
    "\n",
    "Dim_Location_distinct = spark.sql(\n",
    "    \" select distinct atm_location,atm_street_name,atm_street_number,atm_zipcode,atm_lat,atm_lon from sourceFile_SQl\"\n",
    ")\n",
    "\n",
    "### Creating temp table with spark Sql ###\n",
    "\n",
    "Dim_Location_distinct.createOrReplaceTempView(\"Dim_Location_distinct_sql\")\n",
    "\n",
    "### Generating Row_number as location_id using spark SQl ###\n",
    "\n",
    "Dim_Location = spark.sql(\n",
    "    \" select ROW_NUMBER() OVER (ORDER BY atm_location) as location_id, atm_location,atm_street_name,atm_street_number,atm_zipcode,atm_lat,atm_lon from Dim_Location_distinct_sql\"\n",
    ")\n",
    "\n",
    "### Creating temp table with spark Sql to use it in differen join ###\n",
    "\n",
    "Dim_Location.createOrReplaceTempView(\"Dim_Location_sql\")"
   ]
  },
  {
   "cell_type": "code",
   "execution_count": 9,
   "id": "d6baed8c",
   "metadata": {
    "execution": {
     "iopub.execute_input": "2021-11-23T18:11:34.389515Z",
     "iopub.status.busy": "2021-11-23T18:11:34.389214Z",
     "iopub.status.idle": "2021-11-23T18:11:59.882678Z",
     "shell.execute_reply": "2021-11-23T18:11:59.881757Z",
     "shell.execute_reply.started": "2021-11-23T18:11:34.389481Z"
    },
    "tags": []
   },
   "outputs": [
    {
     "data": {
      "application/vnd.jupyter.widget-view+json": {
       "model_id": "fecee2e63cbd4c27826ea8bce0fefa06",
       "version_major": 2,
       "version_minor": 0
      },
      "text/plain": [
       "VBox()"
      ]
     },
     "metadata": {},
     "output_type": "display_data"
    },
    {
     "data": {
      "application/vnd.jupyter.widget-view+json": {
       "model_id": "",
       "version_major": 2,
       "version_minor": 0
      },
      "text/plain": [
       "FloatProgress(value=0.0, bar_style='info', description='Progress:', layout=Layout(height='25px', width='50%'),…"
      ]
     },
     "metadata": {},
     "output_type": "display_data"
    }
   ],
   "source": [
    "### Writing the Location dimension into S3\n",
    "Dim_Location.write.format('csv').option('header', 'true').save(\n",
    "    's3://de-assignment-gov/dim_location/', mode='overwrite')"
   ]
  },
  {
   "cell_type": "markdown",
   "id": "aa12fae5",
   "metadata": {},
   "source": [
    "#### DIM_ATM ####"
   ]
  },
  {
   "cell_type": "code",
   "execution_count": 10,
   "id": "11d28c5c",
   "metadata": {
    "execution": {
     "iopub.execute_input": "2021-11-23T18:12:24.050511Z",
     "iopub.status.busy": "2021-11-23T18:12:24.050224Z",
     "iopub.status.idle": "2021-11-23T18:12:24.358030Z",
     "shell.execute_reply": "2021-11-23T18:12:24.356866Z",
     "shell.execute_reply.started": "2021-11-23T18:12:24.050477Z"
    },
    "tags": []
   },
   "outputs": [
    {
     "data": {
      "application/vnd.jupyter.widget-view+json": {
       "model_id": "11278dafb682403a9b9f83743878ab2b",
       "version_major": 2,
       "version_minor": 0
      },
      "text/plain": [
       "VBox()"
      ]
     },
     "metadata": {},
     "output_type": "display_data"
    },
    {
     "data": {
      "application/vnd.jupyter.widget-view+json": {
       "model_id": "",
       "version_major": 2,
       "version_minor": 0
      },
      "text/plain": [
       "FloatProgress(value=0.0, bar_style='info', description='Progress:', layout=Layout(height='25px', width='50%'),…"
      ]
     },
     "metadata": {},
     "output_type": "display_data"
    }
   ],
   "source": [
    "### ATM dimension ###\n",
    "atm_distinct = spark.sql(\n",
    "    \" select distinct atm_id as atm_number, atm_manufacturer,atm_location,atm_street_name,atm_street_number,atm_zipcode,atm_lat,atm_lon from sourceFile_SQl\"\n",
    ")\n",
    "### Creating temp table with spark Sql ###\n",
    "atm_distinct.createOrReplaceTempView(\"atm_distinct_sql\")\n",
    "\n",
    "### Joining with location temp table ###\n",
    "atm_location = spark.sql(\n",
    "    \"select distinct a.atm_number,a.atm_manufacturer,b.location_id from  atm_distinct_sql a, Dim_Location_sql b where a.atm_location= b.atm_location and a.atm_street_name= b.atm_street_name and a.atm_street_number=b.atm_street_number and a.atm_zipcode =b.atm_zipcode and a.atm_lat=b.atm_lat and a.atm_lon = b.atm_lon\"\n",
    ")\n",
    "\n",
    "### Creating temp table to generate primary key ###\n",
    "atm_location.createOrReplaceTempView(\"atm_location_sql\")\n",
    "\n",
    "### Generating primary key ###\n",
    "dim_atm = spark.sql(\n",
    "    \" select ROW_NUMBER() OVER (ORDER BY atm_number) as atm_id, atm_number,atm_manufacturer, location_id from atm_location_sql\"\n",
    ")\n",
    "\n",
    "### Creating temp table to generate primary key ###\n",
    "dim_atm.createOrReplaceTempView(\"dim_atm_sql\")"
   ]
  },
  {
   "cell_type": "code",
   "execution_count": 11,
   "id": "281cddb8",
   "metadata": {
    "execution": {
     "iopub.execute_input": "2021-11-23T18:13:35.575870Z",
     "iopub.status.busy": "2021-11-23T18:13:35.575488Z",
     "iopub.status.idle": "2021-11-23T18:14:01.126489Z",
     "shell.execute_reply": "2021-11-23T18:14:01.125352Z",
     "shell.execute_reply.started": "2021-11-23T18:13:35.575819Z"
    },
    "tags": []
   },
   "outputs": [
    {
     "data": {
      "application/vnd.jupyter.widget-view+json": {
       "model_id": "685b15a9bb1f419aabdcc54f310d893c",
       "version_major": 2,
       "version_minor": 0
      },
      "text/plain": [
       "VBox()"
      ]
     },
     "metadata": {},
     "output_type": "display_data"
    },
    {
     "data": {
      "application/vnd.jupyter.widget-view+json": {
       "model_id": "",
       "version_major": 2,
       "version_minor": 0
      },
      "text/plain": [
       "FloatProgress(value=0.0, bar_style='info', description='Progress:', layout=Layout(height='25px', width='50%'),…"
      ]
     },
     "metadata": {},
     "output_type": "display_data"
    }
   ],
   "source": [
    "### Writing the time dimension file to S3 ###\n",
    "dim_atm.write.format('csv').option('header', 'true').save(\n",
    "    's3://de-assignment-gov/dim_atm/', mode='overwrite')"
   ]
  },
  {
   "cell_type": "markdown",
   "id": "d2cc5989",
   "metadata": {},
   "source": [
    "#### DIM_CARD_TYPE ####"
   ]
  },
  {
   "cell_type": "code",
   "execution_count": 12,
   "id": "a66859ba",
   "metadata": {
    "execution": {
     "iopub.execute_input": "2021-11-23T18:12:28.827736Z",
     "iopub.status.busy": "2021-11-23T18:12:28.827421Z",
     "iopub.status.idle": "2021-11-23T18:12:29.125534Z",
     "shell.execute_reply": "2021-11-23T18:12:29.124725Z",
     "shell.execute_reply.started": "2021-11-23T18:12:28.827674Z"
    },
    "tags": []
   },
   "outputs": [
    {
     "data": {
      "application/vnd.jupyter.widget-view+json": {
       "model_id": "54284f7e70084d26b41c74b666eef1ea",
       "version_major": 2,
       "version_minor": 0
      },
      "text/plain": [
       "VBox()"
      ]
     },
     "metadata": {},
     "output_type": "display_data"
    },
    {
     "data": {
      "application/vnd.jupyter.widget-view+json": {
       "model_id": "",
       "version_major": 2,
       "version_minor": 0
      },
      "text/plain": [
       "FloatProgress(value=0.0, bar_style='info', description='Progress:', layout=Layout(height='25px', width='50%'),…"
      ]
     },
     "metadata": {},
     "output_type": "display_data"
    }
   ],
   "source": [
    "### Identifying the distinct DIM_CARD_TYPE using spark sql###\n",
    "\n",
    "Dim_cardtype_distinct = spark.sql(\n",
    "    \" select distinct card_type from sourceFile_SQl\")\n",
    "\n",
    "### Creating temp table with spark Sql ###\n",
    "\n",
    "Dim_cardtype_distinct.createOrReplaceTempView(\"Dim_cardtype_distinct_sql\")\n",
    "\n",
    "### Generating Row_number as ATM_ID using spark SQl ###\n",
    "\n",
    "Dim_cardtype = spark.sql(\n",
    "    \" select ROW_NUMBER() OVER (ORDER BY card_type) as card_type_id, card_type from Dim_cardtype_distinct_sql\"\n",
    ")\n",
    "\n",
    "### Creating temp table with spark Sql to use it in differen join ###\n",
    "\n",
    "Dim_cardtype.createOrReplaceTempView(\"Dim_cardtype_sql\")"
   ]
  },
  {
   "cell_type": "code",
   "execution_count": 13,
   "id": "6c70c7b2",
   "metadata": {
    "execution": {
     "iopub.execute_input": "2021-11-23T18:13:24.130882Z",
     "iopub.status.busy": "2021-11-23T18:13:24.130467Z",
     "iopub.status.idle": "2021-11-23T18:13:33.526646Z",
     "shell.execute_reply": "2021-11-23T18:13:33.525581Z",
     "shell.execute_reply.started": "2021-11-23T18:13:24.130834Z"
    },
    "tags": []
   },
   "outputs": [
    {
     "data": {
      "application/vnd.jupyter.widget-view+json": {
       "model_id": "6620c012d39a441cb13cc4fca2510671",
       "version_major": 2,
       "version_minor": 0
      },
      "text/plain": [
       "VBox()"
      ]
     },
     "metadata": {},
     "output_type": "display_data"
    },
    {
     "data": {
      "application/vnd.jupyter.widget-view+json": {
       "model_id": "",
       "version_major": 2,
       "version_minor": 0
      },
      "text/plain": [
       "FloatProgress(value=0.0, bar_style='info', description='Progress:', layout=Layout(height='25px', width='50%'),…"
      ]
     },
     "metadata": {},
     "output_type": "display_data"
    }
   ],
   "source": [
    "### Writing the card type data to S3 ###\n",
    "Dim_cardtype.write.format('csv').option('header', 'true').save(\n",
    "    's3://de-assignment-gov/dim_card_type/', mode='overwrite')"
   ]
  },
  {
   "cell_type": "markdown",
   "id": "29b39785",
   "metadata": {},
   "source": [
    "### DIM_DATE"
   ]
  },
  {
   "cell_type": "code",
   "execution_count": 14,
   "id": "d571d45f",
   "metadata": {
    "execution": {
     "iopub.execute_input": "2021-11-23T18:12:33.030640Z",
     "iopub.status.busy": "2021-11-23T18:12:33.030367Z",
     "iopub.status.idle": "2021-11-23T18:12:33.844539Z",
     "shell.execute_reply": "2021-11-23T18:12:33.843716Z",
     "shell.execute_reply.started": "2021-11-23T18:12:33.030607Z"
    },
    "tags": []
   },
   "outputs": [
    {
     "data": {
      "application/vnd.jupyter.widget-view+json": {
       "model_id": "49617abdc2c14a9cab266d875d4ddf0f",
       "version_major": 2,
       "version_minor": 0
      },
      "text/plain": [
       "VBox()"
      ]
     },
     "metadata": {},
     "output_type": "display_data"
    },
    {
     "data": {
      "application/vnd.jupyter.widget-view+json": {
       "model_id": "",
       "version_major": 2,
       "version_minor": 0
      },
      "text/plain": [
       "FloatProgress(value=0.0, bar_style='info', description='Progress:', layout=Layout(height='25px', width='50%'),…"
      ]
     },
     "metadata": {},
     "output_type": "display_data"
    }
   ],
   "source": [
    "### Created new Month_num field decoding the month from strings to number\n",
    "from pyspark.sql.functions import when\n",
    "\n",
    "sourceFile = sourceFile.withColumn(\n",
    "    \"Month_Num\",\n",
    "    when(sourceFile.month == 'January',\n",
    "         '01').when(sourceFile.month == \"February\", \"02\").when(\n",
    "             sourceFile.month == \"March\",\n",
    "             \"03\").when(sourceFile.month == \"April\", \"04\").when(\n",
    "                 sourceFile.month == \"May\",\n",
    "                 \"05\").when(sourceFile.month == \"June\", \"06\").when(\n",
    "                     sourceFile.month == \"July\",\n",
    "                     \"07\").when(sourceFile.month == \"August\", \"08\").when(\n",
    "                         sourceFile.month == \"September\",\n",
    "                         \"09\").when(sourceFile.month == \"October\", \"10\").when(\n",
    "                             sourceFile.month == \"November\",\n",
    "                             \"11\").when(sourceFile.month == \"December\",\n",
    "                                        \"12\").otherwise(sourceFile.month))"
   ]
  },
  {
   "cell_type": "code",
   "execution_count": 15,
   "id": "31ffba84",
   "metadata": {
    "execution": {
     "iopub.execute_input": "2021-11-23T18:12:34.659459Z",
     "iopub.status.busy": "2021-11-23T18:12:34.659174Z",
     "iopub.status.idle": "2021-11-23T18:12:34.965476Z",
     "shell.execute_reply": "2021-11-23T18:12:34.964294Z",
     "shell.execute_reply.started": "2021-11-23T18:12:34.659426Z"
    },
    "tags": []
   },
   "outputs": [
    {
     "data": {
      "application/vnd.jupyter.widget-view+json": {
       "model_id": "23f8916f0b6b4a53999ea4088186b944",
       "version_major": 2,
       "version_minor": 0
      },
      "text/plain": [
       "VBox()"
      ]
     },
     "metadata": {},
     "output_type": "display_data"
    },
    {
     "data": {
      "application/vnd.jupyter.widget-view+json": {
       "model_id": "",
       "version_major": 2,
       "version_minor": 0
      },
      "text/plain": [
       "FloatProgress(value=0.0, bar_style='info', description='Progress:', layout=Layout(height='25px', width='50%'),…"
      ]
     },
     "metadata": {},
     "output_type": "display_data"
    }
   ],
   "source": [
    "### Created new day_Num field decoding the day from 0 to 00 , 1 to 01 etc...\n",
    "sourceFile = sourceFile.withColumn(\n",
    "    \"Day_Num\",\n",
    "    when(sourceFile.day == '1', '01').when(sourceFile.day == \"2\", \"02\").when(\n",
    "        sourceFile.day == \"3\", \"03\").when(sourceFile.day == \"4\", \"04\").when(\n",
    "            sourceFile.day == \"5\", \"05\").when(sourceFile.day == \"6\", \"06\").when(\n",
    "                sourceFile.day == \"7\",\n",
    "                \"07\").when(sourceFile.day == \"8\",\n",
    "                           \"08\").when(sourceFile.day == \"9\",\n",
    "                                      \"09\").otherwise(sourceFile.day))"
   ]
  },
  {
   "cell_type": "code",
   "execution_count": 16,
   "id": "45c0fa0a",
   "metadata": {
    "execution": {
     "iopub.execute_input": "2021-11-23T18:12:38.567454Z",
     "iopub.status.busy": "2021-11-23T18:12:38.567046Z",
     "iopub.status.idle": "2021-11-23T18:12:38.860072Z",
     "shell.execute_reply": "2021-11-23T18:12:38.859148Z",
     "shell.execute_reply.started": "2021-11-23T18:12:38.567413Z"
    },
    "tags": []
   },
   "outputs": [
    {
     "data": {
      "application/vnd.jupyter.widget-view+json": {
       "model_id": "fae09e0b93ff4d6ba042c028e13c975f",
       "version_major": 2,
       "version_minor": 0
      },
      "text/plain": [
       "VBox()"
      ]
     },
     "metadata": {},
     "output_type": "display_data"
    },
    {
     "data": {
      "application/vnd.jupyter.widget-view+json": {
       "model_id": "",
       "version_major": 2,
       "version_minor": 0
      },
      "text/plain": [
       "FloatProgress(value=0.0, bar_style='info', description='Progress:', layout=Layout(height='25px', width='50%'),…"
      ]
     },
     "metadata": {},
     "output_type": "display_data"
    }
   ],
   "source": [
    "### Created new Hour_Num field decoding the hour from 0 to 00 , 1 to 01 etc...\n",
    "sourceFile = sourceFile.withColumn(\n",
    "    \"Hour_Num\",\n",
    "    when(sourceFile.hour == '1', '01').when(sourceFile.hour == \"2\", \"02\").when(\n",
    "        sourceFile.hour == \"0\", \"00\").when(sourceFile.hour == \"3\", \"03\").when(\n",
    "            sourceFile.hour == \"4\",\n",
    "            \"04\").when(sourceFile.hour == \"5\",\n",
    "                       \"05\").when(sourceFile.hour == \"6\",\n",
    "                                  \"06\").when(sourceFile.hour == \"7\", \"07\").when(\n",
    "                                      sourceFile.hour == \"8\", \"08\").when(\n",
    "                                          sourceFile.hour == \"9\",\n",
    "                                          \"09\").otherwise(sourceFile.hour))"
   ]
  },
  {
   "cell_type": "code",
   "execution_count": 17,
   "id": "6c27b9a8",
   "metadata": {
    "execution": {
     "iopub.execute_input": "2021-11-23T18:12:40.213178Z",
     "iopub.status.busy": "2021-11-23T18:12:40.212905Z",
     "iopub.status.idle": "2021-11-23T18:12:40.506438Z",
     "shell.execute_reply": "2021-11-23T18:12:40.505379Z",
     "shell.execute_reply.started": "2021-11-23T18:12:40.213146Z"
    },
    "tags": []
   },
   "outputs": [
    {
     "data": {
      "application/vnd.jupyter.widget-view+json": {
       "model_id": "c8bb34e12f174ec895f1c9f9886bd470",
       "version_major": 2,
       "version_minor": 0
      },
      "text/plain": [
       "VBox()"
      ]
     },
     "metadata": {},
     "output_type": "display_data"
    },
    {
     "data": {
      "application/vnd.jupyter.widget-view+json": {
       "model_id": "",
       "version_major": 2,
       "version_minor": 0
      },
      "text/plain": [
       "FloatProgress(value=0.0, bar_style='info', description='Progress:', layout=Layout(height='25px', width='50%'),…"
      ]
     },
     "metadata": {},
     "output_type": "display_data"
    }
   ],
   "source": [
    "### Created new Complete_time_str conctaenting the above created colums\n",
    "\n",
    "from pyspark.sql.functions import concat, col, lit\n",
    "\n",
    "sourceFile = sourceFile.withColumn(\n",
    "    'Complete_time_str',\n",
    "    concat(col('year'), lit(\"-\"), col('month_Num'), lit(\"-\"), col('Day_Num'),\n",
    "           lit(\" \"), col('Hour_Num'), lit(\":\"), lit(\"00\"), lit(\":\"), lit(\"00\")))"
   ]
  },
  {
   "cell_type": "code",
   "execution_count": 18,
   "id": "cd217d86",
   "metadata": {
    "execution": {
     "iopub.execute_input": "2021-11-23T18:12:47.056320Z",
     "iopub.status.busy": "2021-11-23T18:12:47.056035Z",
     "iopub.status.idle": "2021-11-23T18:12:47.348274Z",
     "shell.execute_reply": "2021-11-23T18:12:47.347241Z",
     "shell.execute_reply.started": "2021-11-23T18:12:47.056287Z"
    },
    "tags": []
   },
   "outputs": [
    {
     "data": {
      "application/vnd.jupyter.widget-view+json": {
       "model_id": "b0323027425a44d5ad5adce3d1620267",
       "version_major": 2,
       "version_minor": 0
      },
      "text/plain": [
       "VBox()"
      ]
     },
     "metadata": {},
     "output_type": "display_data"
    },
    {
     "data": {
      "application/vnd.jupyter.widget-view+json": {
       "model_id": "",
       "version_major": 2,
       "version_minor": 0
      },
      "text/plain": [
       "FloatProgress(value=0.0, bar_style='info', description='Progress:', layout=Layout(height='25px', width='50%'),…"
      ]
     },
     "metadata": {},
     "output_type": "display_data"
    }
   ],
   "source": [
    "### Creating temp table with new fields\n",
    "sourceFile.createOrReplaceTempView(\"sourceFile_SQl\")"
   ]
  },
  {
   "cell_type": "code",
   "execution_count": 19,
   "id": "5afd5456",
   "metadata": {
    "execution": {
     "iopub.execute_input": "2021-11-23T18:12:49.035686Z",
     "iopub.status.busy": "2021-11-23T18:12:49.035372Z",
     "iopub.status.idle": "2021-11-23T18:12:49.338984Z",
     "shell.execute_reply": "2021-11-23T18:12:49.337816Z",
     "shell.execute_reply.started": "2021-11-23T18:12:49.035651Z"
    },
    "tags": []
   },
   "outputs": [
    {
     "data": {
      "application/vnd.jupyter.widget-view+json": {
       "model_id": "6542c62dd901412a9b52453b32d4a907",
       "version_major": 2,
       "version_minor": 0
      },
      "text/plain": [
       "VBox()"
      ]
     },
     "metadata": {},
     "output_type": "display_data"
    },
    {
     "data": {
      "application/vnd.jupyter.widget-view+json": {
       "model_id": "",
       "version_major": 2,
       "version_minor": 0
      },
      "text/plain": [
       "FloatProgress(value=0.0, bar_style='info', description='Progress:', layout=Layout(height='25px', width='50%'),…"
      ]
     },
     "metadata": {},
     "output_type": "display_data"
    }
   ],
   "source": [
    "### Date dimension table generation ###\n",
    "\n",
    "Dim_Date_distinct = spark.sql(\n",
    "    \"select distinct Complete_time_str as full_date_time,year,month,day,hour,weekday  From sourceFile_SQl\"\n",
    ")\n",
    "\n",
    "### Creating temp table with spark Sql ###\n",
    "\n",
    "Dim_Date_distinct.createOrReplaceTempView(\"Dim_Date_distinct_sql\")\n",
    "\n",
    "### Generating Row_number as date_id using spark SQl ###\n",
    "\n",
    "Dim_Date = spark.sql(\n",
    "    \" select ROW_NUMBER() OVER (ORDER BY full_date_time) as Date_id, full_date_time, year,month,day,hour,weekday from Dim_Date_distinct_sql\"\n",
    ")\n",
    "\n",
    "### Creating temp table with spark Sql to use it in differen join ###\n",
    "\n",
    "Dim_Date.createOrReplaceTempView(\"Dim_Date_sql\")"
   ]
  },
  {
   "cell_type": "code",
   "execution_count": 20,
   "id": "6fd4fe2b",
   "metadata": {
    "execution": {
     "iopub.execute_input": "2021-11-23T18:12:57.429203Z",
     "iopub.status.busy": "2021-11-23T18:12:57.428911Z",
     "iopub.status.idle": "2021-11-23T18:13:12.845889Z",
     "shell.execute_reply": "2021-11-23T18:13:12.844933Z",
     "shell.execute_reply.started": "2021-11-23T18:12:57.429170Z"
    },
    "tags": []
   },
   "outputs": [
    {
     "data": {
      "application/vnd.jupyter.widget-view+json": {
       "model_id": "ac409af8107540218df7b5ffedc340bb",
       "version_major": 2,
       "version_minor": 0
      },
      "text/plain": [
       "VBox()"
      ]
     },
     "metadata": {},
     "output_type": "display_data"
    },
    {
     "data": {
      "application/vnd.jupyter.widget-view+json": {
       "model_id": "",
       "version_major": 2,
       "version_minor": 0
      },
      "text/plain": [
       "FloatProgress(value=0.0, bar_style='info', description='Progress:', layout=Layout(height='25px', width='50%'),…"
      ]
     },
     "metadata": {},
     "output_type": "display_data"
    }
   ],
   "source": [
    "### Writing the date dimension data to S3 ###\n",
    "Dim_Date.write.format('csv').option('header', 'true').save(\n",
    "    's3://de-assignment-gov/dim_date/', mode='overwrite')"
   ]
  },
  {
   "cell_type": "markdown",
   "id": "b82fea68",
   "metadata": {},
   "source": [
    "## 3. Fact table creation"
   ]
  },
  {
   "cell_type": "code",
   "execution_count": 21,
   "id": "ecd2523c",
   "metadata": {
    "execution": {
     "iopub.execute_input": "2021-11-23T18:15:11.797626Z",
     "iopub.status.busy": "2021-11-23T18:15:11.797353Z",
     "iopub.status.idle": "2021-11-23T18:15:12.086114Z",
     "shell.execute_reply": "2021-11-23T18:15:12.085175Z",
     "shell.execute_reply.started": "2021-11-23T18:15:11.797594Z"
    },
    "tags": []
   },
   "outputs": [
    {
     "data": {
      "application/vnd.jupyter.widget-view+json": {
       "model_id": "09252f4a1a774dfa95938e468c6e424f",
       "version_major": 2,
       "version_minor": 0
      },
      "text/plain": [
       "VBox()"
      ]
     },
     "metadata": {},
     "output_type": "display_data"
    },
    {
     "data": {
      "application/vnd.jupyter.widget-view+json": {
       "model_id": "",
       "version_major": 2,
       "version_minor": 0
      },
      "text/plain": [
       "FloatProgress(value=0.0, bar_style='info', description='Progress:', layout=Layout(height='25px', width='50%'),…"
      ]
     },
     "metadata": {},
     "output_type": "display_data"
    }
   ],
   "source": [
    "### Hadling invalid data in the Message_text column for the message_Code 4017,4014,4002\n",
    "sourceFile = sourceFile.withColumn(\n",
    "    \"Message_Txt_formatted\",\n",
    "    when(sourceFile.message_code == '4017', 'Suspected malfunction').when(\n",
    "        sourceFile.message_code == '4014', 'Suspected malfunction').when(\n",
    "            sourceFile.message_code == '4002',\n",
    "            'Suspected malfunction').otherwise(sourceFile.message_text))"
   ]
  },
  {
   "cell_type": "code",
   "execution_count": 22,
   "id": "3f9c2ef6",
   "metadata": {
    "execution": {
     "iopub.execute_input": "2021-11-23T18:15:27.925325Z",
     "iopub.status.busy": "2021-11-23T18:15:27.925046Z",
     "iopub.status.idle": "2021-11-23T18:15:28.219292Z",
     "shell.execute_reply": "2021-11-23T18:15:28.218342Z",
     "shell.execute_reply.started": "2021-11-23T18:15:27.925293Z"
    },
    "tags": []
   },
   "outputs": [
    {
     "data": {
      "application/vnd.jupyter.widget-view+json": {
       "model_id": "0a1c879a31d347f39f6a5ebab262506f",
       "version_major": 2,
       "version_minor": 0
      },
      "text/plain": [
       "VBox()"
      ]
     },
     "metadata": {},
     "output_type": "display_data"
    },
    {
     "data": {
      "application/vnd.jupyter.widget-view+json": {
       "model_id": "",
       "version_major": 2,
       "version_minor": 0
      },
      "text/plain": [
       "FloatProgress(value=0.0, bar_style='info', description='Progress:', layout=Layout(height='25px', width='50%'),…"
      ]
     },
     "metadata": {},
     "output_type": "display_data"
    }
   ],
   "source": [
    "### Creating temp table with new fields\n",
    "sourceFile.createOrReplaceTempView(\"sourceFile_SQl\")"
   ]
  },
  {
   "cell_type": "code",
   "execution_count": 23,
   "id": "e8a1314c",
   "metadata": {
    "execution": {
     "iopub.execute_input": "2021-11-23T18:15:30.099785Z",
     "iopub.status.busy": "2021-11-23T18:15:30.099485Z",
     "iopub.status.idle": "2021-11-23T18:15:30.424807Z",
     "shell.execute_reply": "2021-11-23T18:15:30.423699Z",
     "shell.execute_reply.started": "2021-11-23T18:15:30.099752Z"
    },
    "tags": []
   },
   "outputs": [
    {
     "data": {
      "application/vnd.jupyter.widget-view+json": {
       "model_id": "19f76a11f9534375adf509471902cc9a",
       "version_major": 2,
       "version_minor": 0
      },
      "text/plain": [
       "VBox()"
      ]
     },
     "metadata": {},
     "output_type": "display_data"
    },
    {
     "data": {
      "application/vnd.jupyter.widget-view+json": {
       "model_id": "",
       "version_major": 2,
       "version_minor": 0
      },
      "text/plain": [
       "FloatProgress(value=0.0, bar_style='info', description='Progress:', layout=Layout(height='25px', width='50%'),…"
      ]
     },
     "metadata": {},
     "output_type": "display_data"
    }
   ],
   "source": [
    "### Left joined with card type details and creation of temp tables\n",
    "Card_type = spark.sql(\n",
    "    \"select a.*,b.card_type_id from sourceFile_SQl a  left join Dim_cardtype_sql b on a.card_type = b.card_type \"\n",
    ")\n",
    "\n",
    "Card_type.createOrReplaceTempView(\"Card_type_sql\")"
   ]
  },
  {
   "cell_type": "code",
   "execution_count": 24,
   "id": "2e318767",
   "metadata": {
    "execution": {
     "iopub.execute_input": "2021-11-23T18:15:35.915841Z",
     "iopub.status.busy": "2021-11-23T18:15:35.915520Z",
     "iopub.status.idle": "2021-11-23T18:15:36.214612Z",
     "shell.execute_reply": "2021-11-23T18:15:36.213698Z",
     "shell.execute_reply.started": "2021-11-23T18:15:35.915807Z"
    },
    "tags": []
   },
   "outputs": [
    {
     "data": {
      "application/vnd.jupyter.widget-view+json": {
       "model_id": "044e08b4a41e41dfba72df8407de0bc3",
       "version_major": 2,
       "version_minor": 0
      },
      "text/plain": [
       "VBox()"
      ]
     },
     "metadata": {},
     "output_type": "display_data"
    },
    {
     "data": {
      "application/vnd.jupyter.widget-view+json": {
       "model_id": "",
       "version_major": 2,
       "version_minor": 0
      },
      "text/plain": [
       "FloatProgress(value=0.0, bar_style='info', description='Progress:', layout=Layout(height='25px', width='50%'),…"
      ]
     },
     "metadata": {},
     "output_type": "display_data"
    }
   ],
   "source": [
    "### ### Left joined with weather loaction details and creation of temp table\n",
    "weather_location = spark.sql(\n",
    "    \"select a.*, b.location_id as weather_loc_id from Card_type_sql a  left join Dim_Location_sql b on (a.atm_location = b.atm_location and a.atm_street_name = b.atm_street_name and a.atm_street_number = b.atm_street_number and  a.atm_zipcode = b.atm_zipcode and a.atm_lat = b.atm_lat and a.atm_lon = b.atm_lon) \"\n",
    ")\n",
    "weather_location.createOrReplaceTempView(\"weather_location_sql\")"
   ]
  },
  {
   "cell_type": "code",
   "execution_count": 25,
   "id": "a2eb17c2",
   "metadata": {
    "execution": {
     "iopub.execute_input": "2021-11-23T18:15:38.306621Z",
     "iopub.status.busy": "2021-11-23T18:15:38.306360Z",
     "iopub.status.idle": "2021-11-23T18:15:38.597072Z",
     "shell.execute_reply": "2021-11-23T18:15:38.596162Z",
     "shell.execute_reply.started": "2021-11-23T18:15:38.306589Z"
    },
    "tags": []
   },
   "outputs": [
    {
     "data": {
      "application/vnd.jupyter.widget-view+json": {
       "model_id": "8792229edce2499d9b3b4fc1cac0c34d",
       "version_major": 2,
       "version_minor": 0
      },
      "text/plain": [
       "VBox()"
      ]
     },
     "metadata": {},
     "output_type": "display_data"
    },
    {
     "data": {
      "application/vnd.jupyter.widget-view+json": {
       "model_id": "",
       "version_major": 2,
       "version_minor": 0
      },
      "text/plain": [
       "FloatProgress(value=0.0, bar_style='info', description='Progress:', layout=Layout(height='25px', width='50%'),…"
      ]
     },
     "metadata": {},
     "output_type": "display_data"
    }
   ],
   "source": [
    "### left joined with ATM temp table\n",
    "atm_data = spark.sql(\n",
    "    \"select a.*, b.atm_id from weather_location_sql a  left join dim_atm_sql b on a.atm_id = b.atm_number and a.weather_loc_id=location_id\"\n",
    ")\n",
    "atm_data.createOrReplaceTempView(\"atm_data_sql\")"
   ]
  },
  {
   "cell_type": "code",
   "execution_count": 26,
   "id": "1ad1e6f2",
   "metadata": {
    "execution": {
     "iopub.execute_input": "2021-11-23T18:15:40.371323Z",
     "iopub.status.busy": "2021-11-23T18:15:40.371056Z",
     "iopub.status.idle": "2021-11-23T18:15:40.666280Z",
     "shell.execute_reply": "2021-11-23T18:15:40.665237Z",
     "shell.execute_reply.started": "2021-11-23T18:15:40.371290Z"
    },
    "tags": []
   },
   "outputs": [
    {
     "data": {
      "application/vnd.jupyter.widget-view+json": {
       "model_id": "1e2cb330cdd447d8944c8f6f32be0fae",
       "version_major": 2,
       "version_minor": 0
      },
      "text/plain": [
       "VBox()"
      ]
     },
     "metadata": {},
     "output_type": "display_data"
    },
    {
     "data": {
      "application/vnd.jupyter.widget-view+json": {
       "model_id": "",
       "version_major": 2,
       "version_minor": 0
      },
      "text/plain": [
       "FloatProgress(value=0.0, bar_style='info', description='Progress:', layout=Layout(height='25px', width='50%'),…"
      ]
     },
     "metadata": {},
     "output_type": "display_data"
    }
   ],
   "source": [
    "### left joined with Date temp table\n",
    "time_fact_data = spark.sql(\n",
    "    \"select a.*, b.date_id from weather_location_sql a  left join Dim_Date_sql b on a.Complete_time_str = b.full_date_time\"\n",
    ")\n",
    "time_fact_data.createOrReplaceTempView(\"time_fact_data_sql\")"
   ]
  },
  {
   "cell_type": "code",
   "execution_count": 27,
   "id": "7bafad07",
   "metadata": {
    "execution": {
     "iopub.execute_input": "2021-11-23T18:25:26.330564Z",
     "iopub.status.busy": "2021-11-23T18:25:26.330255Z",
     "iopub.status.idle": "2021-11-23T18:25:26.637488Z",
     "shell.execute_reply": "2021-11-23T18:25:26.636530Z",
     "shell.execute_reply.started": "2021-11-23T18:25:26.330531Z"
    },
    "tags": []
   },
   "outputs": [
    {
     "data": {
      "application/vnd.jupyter.widget-view+json": {
       "model_id": "b24eacf6da9e42b2b0aecec0b0daa55b",
       "version_major": 2,
       "version_minor": 0
      },
      "text/plain": [
       "VBox()"
      ]
     },
     "metadata": {},
     "output_type": "display_data"
    },
    {
     "data": {
      "application/vnd.jupyter.widget-view+json": {
       "model_id": "",
       "version_major": 2,
       "version_minor": 0
      },
      "text/plain": [
       "FloatProgress(value=0.0, bar_style='info', description='Progress:', layout=Layout(height='25px', width='50%'),…"
      ]
     },
     "metadata": {},
     "output_type": "display_data"
    }
   ],
   "source": [
    "### Selecting only required columns ###\n",
    "Fact_consolidate_columns = spark.sql(\n",
    "    \"select atm_id, weather_loc_id,date_id,card_type_id,atm_status,currency,service,transaction_amount,message_code,Message_Txt_formatted,rain_3h,clouds_all,weather_id,weather_main,weather_description from time_fact_data_sql\"\n",
    ")\n",
    "Fact_consolidate_columns.createOrReplaceTempView(\"Fact_consolidate_columns_sql\")"
   ]
  },
  {
   "cell_type": "code",
   "execution_count": 28,
   "id": "8805e150",
   "metadata": {
    "execution": {
     "iopub.execute_input": "2021-11-23T18:25:29.652492Z",
     "iopub.status.busy": "2021-11-23T18:25:29.652206Z",
     "iopub.status.idle": "2021-11-23T18:25:29.737293Z",
     "shell.execute_reply": "2021-11-23T18:25:29.736385Z",
     "shell.execute_reply.started": "2021-11-23T18:25:29.652459Z"
    },
    "tags": []
   },
   "outputs": [
    {
     "data": {
      "application/vnd.jupyter.widget-view+json": {
       "model_id": "16f4326dd4f040d9af5c9693484d4947",
       "version_major": 2,
       "version_minor": 0
      },
      "text/plain": [
       "VBox()"
      ]
     },
     "metadata": {},
     "output_type": "display_data"
    },
    {
     "data": {
      "application/vnd.jupyter.widget-view+json": {
       "model_id": "",
       "version_major": 2,
       "version_minor": 0
      },
      "text/plain": [
       "FloatProgress(value=0.0, bar_style='info', description='Progress:', layout=Layout(height='25px', width='50%'),…"
      ]
     },
     "metadata": {},
     "output_type": "display_data"
    }
   ],
   "source": [
    "### Creating final table ###\n",
    "Fact_consolidated = spark.sql(\n",
    "    \"Select ROW_NUMBER() OVER (ORDER BY a.date_id) as trans_id, a.* from Fact_consolidate_columns_sql a\"\n",
    ")"
   ]
  },
  {
   "cell_type": "code",
   "execution_count": 29,
   "id": "ff150aed",
   "metadata": {
    "execution": {
     "iopub.execute_input": "2021-11-23T18:25:35.437595Z",
     "iopub.status.busy": "2021-11-23T18:25:35.437328Z",
     "iopub.status.idle": "2021-11-23T18:25:35.717221Z",
     "shell.execute_reply": "2021-11-23T18:25:35.716363Z",
     "shell.execute_reply.started": "2021-11-23T18:25:35.437563Z"
    },
    "tags": []
   },
   "outputs": [
    {
     "data": {
      "application/vnd.jupyter.widget-view+json": {
       "model_id": "199eb334b7064029ae46ab560531d453",
       "version_major": 2,
       "version_minor": 0
      },
      "text/plain": [
       "VBox()"
      ]
     },
     "metadata": {},
     "output_type": "display_data"
    },
    {
     "data": {
      "application/vnd.jupyter.widget-view+json": {
       "model_id": "",
       "version_major": 2,
       "version_minor": 0
      },
      "text/plain": [
       "FloatProgress(value=0.0, bar_style='info', description='Progress:', layout=Layout(height='25px', width='50%'),…"
      ]
     },
     "metadata": {},
     "output_type": "display_data"
    }
   ],
   "source": [
    "t = Fact_consolidated.createOrReplaceTempView(\"Fact_consolidated_sql\")"
   ]
  },
  {
   "cell_type": "code",
   "execution_count": 30,
   "id": "88b34e49",
   "metadata": {
    "execution": {
     "iopub.execute_input": "2021-11-23T20:40:44.298960Z",
     "iopub.status.busy": "2021-11-23T20:40:44.298659Z",
     "iopub.status.idle": "2021-11-23T20:40:44.350363Z",
     "shell.execute_reply": "2021-11-23T20:40:44.349014Z",
     "shell.execute_reply.started": "2021-11-23T20:40:44.298909Z"
    },
    "tags": []
   },
   "outputs": [
    {
     "data": {
      "application/vnd.jupyter.widget-view+json": {
       "model_id": "4fd32e6981e941da982b10d8378ba844",
       "version_major": 2,
       "version_minor": 0
      },
      "text/plain": [
       "VBox()"
      ]
     },
     "metadata": {},
     "output_type": "display_data"
    },
    {
     "data": {
      "application/vnd.jupyter.widget-view+json": {
       "model_id": "",
       "version_major": 2,
       "version_minor": 0
      },
      "text/plain": [
       "FloatProgress(value=0.0, bar_style='info', description='Progress:', layout=Layout(height='25px', width='50%'),…"
      ]
     },
     "metadata": {},
     "output_type": "display_data"
    }
   ],
   "source": [
    "### Writing the date dimension data to S3\n",
    "Fact_consolidated.write.format('csv').option('header', 'true').save(\n",
    "    's3://de-assignment-gov/fact_atm_trans/', mode='overwrite')"
   ]
  }
 ],
 "metadata": {
  "kernelspec": {
   "display_name": "PySpark",
   "language": "",
   "name": "pysparkkernel"
  },
  "language_info": {
   "codemirror_mode": {
    "name": "python",
    "version": 3
   },
   "mimetype": "text/x-python",
   "name": "pyspark",
   "pygments_lexer": "python3"
  }
 },
 "nbformat": 4,
 "nbformat_minor": 5
}
